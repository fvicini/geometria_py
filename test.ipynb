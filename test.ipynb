{
 "cells": [
  {
   "cell_type": "markdown",
   "metadata": {},
   "source": [
    "# Esercitazione 0\n",
    "\n",
    "Argomenti: manipolazione di vettori e matrici, grafici di funzioni, linguaggio Matlab\n"
   ]
  },
  {
   "cell_type": "code",
   "execution_count": 37,
   "metadata": {},
   "outputs": [],
   "source": [
    "import numpy as np\n",
    "from scipy import io, integrate, linalg, signal\n",
    "from scipy.sparse.linalg import eigs"
   ]
  },
  {
   "cell_type": "markdown",
   "metadata": {},
   "source": [
    "## Esercizio 3\n",
    "\n",
    "1. Definire la matrice $A=\\left\\lbrack \\begin{array}{cccccc}\n",
    "1 & 2 & 3 & 4 & 5 & 6\\\\\n",
    "5 & 6 & 7 & 8 & 9 & 10\\\\\n",
    "9 & 10 & 11 & 12 & 13 & 14\\\\\n",
    "15 & 16 & 17 & 18 & 19 & 20\n",
    "\\end{array}\\right\\rbrack$\n",
    "2. Costruire la matrice $B$ formata dalle colonne di $A$ disposte in ordine inverso (ossia, la prima colonna di $B$ è la sesta di $A$, la seconda di $B$ è la quinta di $A$...)\n",
    "3. Costruire la matrice formata dalle sole colonne pari di $A$\n",
    "4. Costruire la matrice formata dalle sole righe dispari di $A$\n",
    "5. Costruire la matrice formata dalle righe 1, 4, 3 e dalle colonne 5, 2 di $A$\n",
    "6. Costruire il vettore formato dagli elementi diagonali $a_{k,k}$ con $k \\in \\{1, \\dots , 4\\}$ di $A$"
   ]
  },
  {
   "cell_type": "markdown",
   "metadata": {},
   "source": [
    "\n",
    "#### Parte 1\n",
    "\n",
    "Definire la matrice\n",
    "\n",
    "$A = \\left\\lbrack \\begin{array}{cccccc}\n",
    "1 & 2 & 3 & 4 & 5 & 6\\\\\n",
    "5 & 6 & 7 & 8 & 9 & 10\\\\\n",
    "9 & 10 & 11 & 12 & 13 & 14\\\\\n",
    "15 & 16 & 17 & 18 & 19 & 20\n",
    "\\end{array}\\right\\rbrack$\n",
    "\n",
    "##### Risoluzione"
   ]
  },
  {
   "cell_type": "code",
   "execution_count": 38,
   "metadata": {},
   "outputs": [
    {
     "name": "stdout",
     "output_type": "stream",
     "text": [
      "[[ 1  2  3  4  5  6]\n",
      " [ 5  6  7  8  9 10]\n",
      " [ 9 10 11 12 13 14]\n",
      " [15 16 17 18 19 20]]\n"
     ]
    }
   ],
   "source": [
    "A = np.array([np.arange(1, 7),\n",
    "              np.arange(5, 11),\n",
    "              np.arange(9, 15),\n",
    "              np.arange(15, 21)])\n",
    "print(A)"
   ]
  },
  {
   "cell_type": "markdown",
   "metadata": {},
   "source": [
    "#### Parte 2\n",
    "\n",
    "Costruire la matrice $B$ formata dalle colonne di $A$ disposte in ordine inverso (ossia, la prima colonna di $B$ è la sesta di $A$, la seconda di $B$ è la quinta di $A$...)\n",
    "\n",
    "##### Risoluzione"
   ]
  },
  {
   "cell_type": "code",
   "execution_count": 39,
   "metadata": {},
   "outputs": [
    {
     "name": "stdout",
     "output_type": "stream",
     "text": [
      "[[ 6  5  4  3  2]\n",
      " [10  9  8  7  6]\n",
      " [14 13 12 11 10]\n",
      " [20 19 18 17 16]]\n"
     ]
    }
   ],
   "source": [
    "B = A[:,:0:-1]\n",
    "print(B)"
   ]
  },
  {
   "cell_type": "markdown",
   "metadata": {},
   "source": [
    "### Parte 3\n",
    "\n",
    "Costruire la matrice formata dalle sole colonne pari di $A$\n",
    "\n",
    "#### Risoluzione"
   ]
  },
  {
   "cell_type": "code",
   "execution_count": 40,
   "metadata": {},
   "outputs": [
    {
     "name": "stdout",
     "output_type": "stream",
     "text": [
      "[[ 2  4  6]\n",
      " [ 6  8 10]\n",
      " [10 12 14]\n",
      " [16 18 20]]\n"
     ]
    }
   ],
   "source": [
    "APari = A[:,1::2]\n",
    "print(APari)"
   ]
  },
  {
   "cell_type": "markdown",
   "metadata": {},
   "source": [
    "### Parte 4\n",
    "\n",
    "Costruire la matrice formata dalle sole righe dispari di $A$\n",
    "\n",
    "#### Risoluzione"
   ]
  },
  {
   "cell_type": "code",
   "execution_count": 41,
   "metadata": {},
   "outputs": [
    {
     "name": "stdout",
     "output_type": "stream",
     "text": [
      "[[ 1  2  3  4  5  6]\n",
      " [ 9 10 11 12 13 14]]\n"
     ]
    }
   ],
   "source": [
    "ADispari = A[0::2,:]\n",
    "print(ADispari)"
   ]
  },
  {
   "cell_type": "markdown",
   "metadata": {},
   "source": [
    "### Parte 5\n",
    "\n",
    "Costruire la matrice formata dalle righe 1, 4, 3 e dalle colonne 5, 2 di $A$\n",
    "\n",
    "#### Risoluzione"
   ]
  },
  {
   "cell_type": "code",
   "execution_count": 42,
   "metadata": {},
   "outputs": [
    {
     "name": "stdout",
     "output_type": "stream",
     "text": [
      "[[ 5  2]\n",
      " [19 16]\n",
      " [13 10]]\n"
     ]
    }
   ],
   "source": [
    "ARidotta = A[np.ix_([0,3,2],[4,1])]\n",
    "print(ARidotta)"
   ]
  },
  {
   "cell_type": "markdown",
   "metadata": {},
   "source": [
    "### Parte 6\n",
    "\n",
    "Costruire il vettore formato dagli elementi diagonali $a_{k,k}$ con $k \\in \\{1, \\dots, 4\\}$ di $A$\n",
    "\n",
    "#### Risoluzione"
   ]
  },
  {
   "cell_type": "code",
   "execution_count": 43,
   "metadata": {},
   "outputs": [
    {
     "name": "stdout",
     "output_type": "stream",
     "text": [
      "[ 1  6 11 18]\n"
     ]
    }
   ],
   "source": [
    "diagA = np.diag(A)\n",
    "print(diagA)"
   ]
  },
  {
   "cell_type": "markdown",
   "metadata": {},
   "source": [
    "## Esercizio 4\n",
    "\n",
    "1. Utilizzare il comando diag di Python per definire la matrice tridiagonale $B$ di dimensione $10\\times 10$, i cui elementi della diagonale principale sono tutti uguali a 5 e quelli delle codiagonali inferiore e superiore sono rispettivamente uguali a −1 e a 3\n",
    "2. Quindi porre uguale a 2 gli elementi appartenenti all’intersezione delle colonne 6 e 9 e delle righe 5 e 8."
   ]
  },
  {
   "cell_type": "markdown",
   "metadata": {},
   "source": [
    "### Parte 1\n",
    "\n",
    "Utilizzare il comando diag di Python per definire la matrice tridiagonale $B$ di dimensione $10\\times 10$, i cui elementi della diagonale principale sono tutti uguali a 5 \n",
    "\n",
    "#### Risoluzione"
   ]
  },
  {
   "cell_type": "code",
   "execution_count": 52,
   "metadata": {},
   "outputs": [
    {
     "name": "stdout",
     "output_type": "stream",
     "text": [
      "[[ 5.  3.  0.  0.  0.  0.  0.  0.  0.  0.]\n",
      " [-1.  5.  3.  0.  0.  0.  0.  0.  0.  0.]\n",
      " [ 0. -1.  5.  3.  0.  0.  0.  0.  0.  0.]\n",
      " [ 0.  0. -1.  5.  3.  0.  0.  0.  0.  0.]\n",
      " [ 0.  0.  0. -1.  5.  3.  0.  0.  0.  0.]\n",
      " [ 0.  0.  0.  0. -1.  5.  3.  0.  0.  0.]\n",
      " [ 0.  0.  0.  0.  0. -1.  5.  3.  0.  0.]\n",
      " [ 0.  0.  0.  0.  0.  0. -1.  5.  3.  0.]\n",
      " [ 0.  0.  0.  0.  0.  0.  0. -1.  5.  3.]\n",
      " [ 0.  0.  0.  0.  0.  0.  0.  0. -1.  5.]]\n"
     ]
    }
   ],
   "source": [
    "B1 = np.diag(5.0*np.ones((10)),0)\n",
    "B2 = np.diag(3.0*np.ones(9),1);\n",
    "B3 = np.diag(-1.0*np.ones(9),-1);\n",
    "B = B1 + B2 + B3\n",
    "print(B)"
   ]
  },
  {
   "cell_type": "markdown",
   "metadata": {},
   "source": [
    "### Parte 2\n",
    "Quindi porre uguale a 2 gli elementi appartenenti all’intersezione delle colonne 6 e 9 e delle righe 5 e 8.\n",
    "\n",
    "#### Risoluzione"
   ]
  },
  {
   "cell_type": "code",
   "execution_count": 54,
   "metadata": {},
   "outputs": [
    {
     "name": "stdout",
     "output_type": "stream",
     "text": [
      "[[ 5.  3.  0.  0.  0.  0.  0.  0.  0.  0.]\n",
      " [-1.  5.  3.  0.  0.  0.  0.  0.  0.  0.]\n",
      " [ 0. -1.  5.  3.  0.  0.  0.  0.  0.  0.]\n",
      " [ 0.  0. -1.  5.  3.  0.  0.  0.  0.  0.]\n",
      " [ 0.  0.  0. -1.  5.  2.  0.  0.  2.  0.]\n",
      " [ 0.  0.  0.  0. -1.  5.  3.  0.  0.  0.]\n",
      " [ 0.  0.  0.  0.  0. -1.  5.  3.  0.  0.]\n",
      " [ 0.  0.  0.  0.  0.  2. -1.  5.  2.  0.]\n",
      " [ 0.  0.  0.  0.  0.  0.  0. -1.  5.  3.]\n",
      " [ 0.  0.  0.  0.  0.  0.  0.  0. -1.  5.]]\n"
     ]
    }
   ],
   "source": [
    "B[np.ix_([4,7],[5,8])] = 2.0\n",
    "print(B)"
   ]
  },
  {
   "cell_type": "markdown",
   "metadata": {},
   "source": [
    "## Esercizio 5\n",
    "\n",
    "1. Utilizzare il comando plot di Python per rappresentare graficamente le seguenti funzioni: $$f\\left(x\\right)=e^{-x^2 } \\;\\;\\mathrm{con}-5\\le x\\le 5$$\n",
    "2. Utilizzare il comando plot di Python per rappresentare graficamente le seguenti funzioni: $$f\\left(x\\right)=x\\;\\sin \\left(\\frac{1}{x}\\right)\\;\\mathrm{con}\\;\\;0<x\\le 2$$"
   ]
  }
 ],
 "metadata": {
  "interpreter": {
   "hash": "cf4ce45dd1fd0987079e1e020eef29be88ec1e084f043fdbe820ba5a4a729263"
  },
  "kernelspec": {
   "display_name": "Python 3.8.10 64-bit ('venv': venv)",
   "language": "python",
   "name": "python3"
  },
  "language_info": {
   "codemirror_mode": {
    "name": "ipython",
    "version": 3
   },
   "file_extension": ".py",
   "mimetype": "text/x-python",
   "name": "python",
   "nbconvert_exporter": "python",
   "pygments_lexer": "ipython3",
   "version": "3.8.10"
  },
  "orig_nbformat": 4
 },
 "nbformat": 4,
 "nbformat_minor": 2
}
