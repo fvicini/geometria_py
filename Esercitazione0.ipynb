{
 "cells": [
  {
   "cell_type": "markdown",
   "metadata": {},
   "source": [
    "# Esercitazione 0\n",
    "\n",
    "Argomenti: manipolazione di vettori e matrici, grafici di funzioni, linguaggio Matlab\n"
   ]
  },
  {
   "cell_type": "code",
   "execution_count": 1,
   "metadata": {},
   "outputs": [],
   "source": [
    "import numpy as np\n",
    "from scipy import io, integrate, linalg, signal\n",
    "from scipy.sparse.linalg import eigs\n",
    "import matplotlib.pyplot as plt"
   ]
  },
  {
   "cell_type": "markdown",
   "metadata": {},
   "source": [
    "## Esercizio 3\n",
    "\n",
    "1. Definire la matrice $A=\\left\\lbrack \\begin{array}{cccccc}\n",
    "1 & 2 & 3 & 4 & 5 & 6\\\\\n",
    "5 & 6 & 7 & 8 & 9 & 10\\\\\n",
    "9 & 10 & 11 & 12 & 13 & 14\\\\\n",
    "15 & 16 & 17 & 18 & 19 & 20\n",
    "\\end{array}\\right\\rbrack$\n",
    "2. Costruire la matrice $B$ formata dalle colonne di $A$ disposte in ordine inverso (ossia, la prima colonna di $B$ è la sesta di $A$, la seconda di $B$ è la quinta di $A$...)\n",
    "3. Costruire la matrice formata dalle sole colonne pari di $A$\n",
    "4. Costruire la matrice formata dalle sole righe dispari di $A$\n",
    "5. Costruire la matrice formata dalle righe 1, 4, 3 e dalle colonne 5, 2 di $A$\n",
    "6. Costruire il vettore formato dagli elementi diagonali $a_{k,k}$ con $k \\in \\{1, \\dots , 4\\}$ di $A$"
   ]
  },
  {
   "cell_type": "markdown",
   "metadata": {},
   "source": [
    "\n",
    "#### Parte 1\n",
    "\n",
    "Definire la matrice\n",
    "\n",
    "$A = \\left\\lbrack \\begin{array}{cccccc}\n",
    "1 & 2 & 3 & 4 & 5 & 6\\\\\n",
    "5 & 6 & 7 & 8 & 9 & 10\\\\\n",
    "9 & 10 & 11 & 12 & 13 & 14\\\\\n",
    "15 & 16 & 17 & 18 & 19 & 20\n",
    "\\end{array}\\right\\rbrack$\n",
    "\n",
    "##### Risoluzione"
   ]
  },
  {
   "cell_type": "code",
   "execution_count": 2,
   "metadata": {},
   "outputs": [
    {
     "name": "stdout",
     "output_type": "stream",
     "text": [
      "[[ 1  2  3  4  5  6]\n",
      " [ 5  6  7  8  9 10]\n",
      " [ 9 10 11 12 13 14]\n",
      " [15 16 17 18 19 20]]\n"
     ]
    }
   ],
   "source": [
    "A = np.array([np.arange(1, 7),\n",
    "              np.arange(5, 11),\n",
    "              np.arange(9, 15),\n",
    "              np.arange(15, 21)])\n",
    "print(A)"
   ]
  },
  {
   "cell_type": "markdown",
   "metadata": {},
   "source": [
    "#### Parte 2\n",
    "\n",
    "Costruire la matrice $B$ formata dalle colonne di $A$ disposte in ordine inverso (ossia, la prima colonna di $B$ è la sesta di $A$, la seconda di $B$ è la quinta di $A$...)\n",
    "\n",
    "##### Risoluzione"
   ]
  },
  {
   "cell_type": "code",
   "execution_count": 3,
   "metadata": {},
   "outputs": [
    {
     "name": "stdout",
     "output_type": "stream",
     "text": [
      "[[ 6  5  4  3  2]\n",
      " [10  9  8  7  6]\n",
      " [14 13 12 11 10]\n",
      " [20 19 18 17 16]]\n"
     ]
    }
   ],
   "source": [
    "B = A[:,:0:-1]\n",
    "print(B)"
   ]
  },
  {
   "cell_type": "markdown",
   "metadata": {},
   "source": [
    "### Parte 3\n",
    "\n",
    "Costruire la matrice formata dalle sole colonne pari di $A$\n",
    "\n",
    "#### Risoluzione"
   ]
  },
  {
   "cell_type": "code",
   "execution_count": 4,
   "metadata": {},
   "outputs": [
    {
     "name": "stdout",
     "output_type": "stream",
     "text": [
      "[[ 2  4  6]\n",
      " [ 6  8 10]\n",
      " [10 12 14]\n",
      " [16 18 20]]\n"
     ]
    }
   ],
   "source": [
    "APari = A[:,1::2]\n",
    "print(APari)"
   ]
  },
  {
   "cell_type": "markdown",
   "metadata": {},
   "source": [
    "### Parte 4\n",
    "\n",
    "Costruire la matrice formata dalle sole righe dispari di $A$\n",
    "\n",
    "#### Risoluzione"
   ]
  },
  {
   "cell_type": "code",
   "execution_count": 5,
   "metadata": {},
   "outputs": [
    {
     "name": "stdout",
     "output_type": "stream",
     "text": [
      "[[ 1  2  3  4  5  6]\n",
      " [ 9 10 11 12 13 14]]\n"
     ]
    }
   ],
   "source": [
    "ADispari = A[0::2,:]\n",
    "print(ADispari)"
   ]
  },
  {
   "cell_type": "markdown",
   "metadata": {},
   "source": [
    "### Parte 5\n",
    "\n",
    "Costruire la matrice formata dalle righe 1, 4, 3 e dalle colonne 5, 2 di $A$\n",
    "\n",
    "#### Risoluzione"
   ]
  },
  {
   "cell_type": "code",
   "execution_count": 6,
   "metadata": {},
   "outputs": [
    {
     "name": "stdout",
     "output_type": "stream",
     "text": [
      "[[ 5  2]\n",
      " [19 16]\n",
      " [13 10]]\n"
     ]
    }
   ],
   "source": [
    "ARidotta = A[np.ix_([0,3,2],[4,1])]\n",
    "print(ARidotta)"
   ]
  },
  {
   "cell_type": "markdown",
   "metadata": {},
   "source": [
    "### Parte 6\n",
    "\n",
    "Costruire il vettore formato dagli elementi diagonali $a_{k,k}$ con $k \\in \\{1, \\dots, 4\\}$ di $A$\n",
    "\n",
    "#### Risoluzione"
   ]
  },
  {
   "cell_type": "code",
   "execution_count": 7,
   "metadata": {},
   "outputs": [
    {
     "name": "stdout",
     "output_type": "stream",
     "text": [
      "[ 1  6 11 18]\n"
     ]
    }
   ],
   "source": [
    "diagA = np.diag(A)\n",
    "print(diagA)"
   ]
  },
  {
   "cell_type": "markdown",
   "metadata": {},
   "source": [
    "## Esercizio 4\n",
    "\n",
    "1. Utilizzare il comando diag di Python per definire la matrice tridiagonale $B$ di dimensione $10\\times 10$, i cui elementi della diagonale principale sono tutti uguali a 5 e quelli delle codiagonali inferiore e superiore sono rispettivamente uguali a −1 e a 3\n",
    "2. Quindi porre uguale a 2 gli elementi appartenenti all’intersezione delle colonne 6 e 9 e delle righe 5 e 8."
   ]
  },
  {
   "cell_type": "markdown",
   "metadata": {},
   "source": [
    "### Parte 1\n",
    "\n",
    "Utilizzare il comando diag di Python per definire la matrice tridiagonale $B$ di dimensione $10\\times 10$, i cui elementi della diagonale principale sono tutti uguali a 5 \n",
    "\n",
    "#### Risoluzione"
   ]
  },
  {
   "cell_type": "code",
   "execution_count": 8,
   "metadata": {},
   "outputs": [
    {
     "name": "stdout",
     "output_type": "stream",
     "text": [
      "[[ 5.  3.  0.  0.  0.  0.  0.  0.  0.  0.]\n",
      " [-1.  5.  3.  0.  0.  0.  0.  0.  0.  0.]\n",
      " [ 0. -1.  5.  3.  0.  0.  0.  0.  0.  0.]\n",
      " [ 0.  0. -1.  5.  3.  0.  0.  0.  0.  0.]\n",
      " [ 0.  0.  0. -1.  5.  3.  0.  0.  0.  0.]\n",
      " [ 0.  0.  0.  0. -1.  5.  3.  0.  0.  0.]\n",
      " [ 0.  0.  0.  0.  0. -1.  5.  3.  0.  0.]\n",
      " [ 0.  0.  0.  0.  0.  0. -1.  5.  3.  0.]\n",
      " [ 0.  0.  0.  0.  0.  0.  0. -1.  5.  3.]\n",
      " [ 0.  0.  0.  0.  0.  0.  0.  0. -1.  5.]]\n"
     ]
    }
   ],
   "source": [
    "B1 = np.diag(5.0*np.ones((10)),0)\n",
    "B2 = np.diag(3.0*np.ones(9),1);\n",
    "B3 = np.diag(-1.0*np.ones(9),-1);\n",
    "B = B1 + B2 + B3\n",
    "print(B)"
   ]
  },
  {
   "cell_type": "markdown",
   "metadata": {},
   "source": [
    "### Parte 2\n",
    "Quindi porre uguale a 2 gli elementi appartenenti all’intersezione delle colonne 6 e 9 e delle righe 5 e 8.\n",
    "\n",
    "#### Risoluzione"
   ]
  },
  {
   "cell_type": "code",
   "execution_count": 9,
   "metadata": {},
   "outputs": [
    {
     "name": "stdout",
     "output_type": "stream",
     "text": [
      "[[ 5.  3.  0.  0.  0.  0.  0.  0.  0.  0.]\n",
      " [-1.  5.  3.  0.  0.  0.  0.  0.  0.  0.]\n",
      " [ 0. -1.  5.  3.  0.  0.  0.  0.  0.  0.]\n",
      " [ 0.  0. -1.  5.  3.  0.  0.  0.  0.  0.]\n",
      " [ 0.  0.  0. -1.  5.  2.  0.  0.  2.  0.]\n",
      " [ 0.  0.  0.  0. -1.  5.  3.  0.  0.  0.]\n",
      " [ 0.  0.  0.  0.  0. -1.  5.  3.  0.  0.]\n",
      " [ 0.  0.  0.  0.  0.  2. -1.  5.  2.  0.]\n",
      " [ 0.  0.  0.  0.  0.  0.  0. -1.  5.  3.]\n",
      " [ 0.  0.  0.  0.  0.  0.  0.  0. -1.  5.]]\n"
     ]
    }
   ],
   "source": [
    "B[np.ix_([4,7],[5,8])] = 2.0\n",
    "print(B)"
   ]
  },
  {
   "cell_type": "markdown",
   "metadata": {},
   "source": [
    "## Esercizio 5\n",
    "\n",
    "1. Utilizzare il comando plot di Python per rappresentare graficamente le seguenti funzioni: $$f\\left(x\\right)=e^{-x^2 } \\;\\;\\mathrm{con}-5\\le x\\le 5$$\n",
    "2. Utilizzare il comando plot di Python per rappresentare graficamente le seguenti funzioni: $$f\\left(x\\right)=x\\;\\sin \\left(\\frac{1}{x}\\right)\\;\\mathrm{con}\\;\\;0<x\\le 2$$"
   ]
  },
  {
   "cell_type": "markdown",
   "metadata": {},
   "source": [
    "### Parte 1\n",
    "\n",
    "Utilizzare il comando plot di Python per rappresentare graficamente le seguenti funzioni: $$f\\left(x\\right)=e^{-x^2 } \\;\\;\\mathrm{con}-5\\le x\\le 5$$\n",
    "\n",
    "#### Risoluzione"
   ]
  },
  {
   "cell_type": "code",
   "execution_count": 10,
   "metadata": {},
   "outputs": [
    {
     "data": {
      "image/png": "[encoded data removed]",
      "text/plain": [
       "<Figure size 432x288 with 1 Axes>"
      ]
     },
     "metadata": {
      "needs_background": "light"
     },
     "output_type": "display_data"
    }
   ],
   "source": [
    "x = np.linspace(-5.0, 5.0, 1000)\n",
    "f = lambda x: np.exp(-x**2)\n",
    "\n",
    "plt.plot(x, f(x), label=\"f(x)\", color='red', linewidth=1, linestyle='--')\n",
    "plt.legend()\n",
    "plt.show()\n"
   ]
  },
  {
   "cell_type": "markdown",
   "metadata": {},
   "source": [
    "### Parte 2\n",
    "\n",
    "Utilizzare il comando plot di Python per rappresentare graficamente le seguenti funzioni: $$f\\left(x\\right)=x\\;\\sin \\left(\\frac{1}{x}\\right)\\;\\mathrm{con}\\;\\;0<x\\le 2$$\n",
    "\n",
    "#### Risoluzione"
   ]
  },
  {
   "cell_type": "code",
   "execution_count": 11,
   "metadata": {},
   "outputs": [
    {
     "data": {
      "text/plain": [
       "<matplotlib.legend.Legend at 0x7fabcc5c90d0>"
      ]
     },
     "execution_count": 11,
     "metadata": {},
     "output_type": "execute_result"
    },
    {
     "data": {
      "image/png": "[encoded data removed]",
      "text/plain": [
       "<Figure size 432x288 with 1 Axes>"
      ]
     },
     "metadata": {
      "needs_background": "light"
     },
     "output_type": "display_data"
    }
   ],
   "source": [
    "x = np.linspace(0.001, 2.0, 1000)\n",
    "f = lambda x: x * np.sin(1 / x)\n",
    "\n",
    "plt.plot(x, f(x), label=\"f(x)\", color='blue', linewidth=1, linestyle='-')\n",
    "plt.legend()"
   ]
  },
  {
   "cell_type": "markdown",
   "metadata": {},
   "source": [
    "## Esercizio 6\n",
    "\n",
    "Rappresentare graficamente la funzione mediante i comandi **plot** e **loglog** $$f\\left(x\\right)=\\sqrt{\\frac{100{\\left(1-0\\ldotp 01x^2 \\right)}^2 +0\\ldotp 02x^2 }{{\\left(1-x^2 \\right)}^2 +0\\ldotp 1x^2 }\\;}\\;\\mathrm{con}\\;\\;0\\ldotp 1\\le \\;x\\le 100\\;$$\n",
    "\n",
    "Valutare la funzione in un numero sufficientemente grande di punti appartenenti all’intervallo di interesse.\n",
    "Quanti sono i massimi e minimi relativi della funzione nell’intervallo in questione?\n",
    "\n",
    "### Risoluzione"
   ]
  },
  {
   "cell_type": "code",
   "execution_count": 23,
   "metadata": {},
   "outputs": [
    {
     "data": {
      "text/plain": [
       "[<matplotlib.lines.Line2D at 0x7fabcb8f2400>]"
      ]
     },
     "execution_count": 23,
     "metadata": {},
     "output_type": "execute_result"
    },
    {
     "data": {
      "image/png": "[encoded data removed]",
      "text/plain": [
       "<Figure size 432x288 with 2 Axes>"
      ]
     },
     "metadata": {
      "needs_background": "light"
     },
     "output_type": "display_data"
    }
   ],
   "source": [
    "numberPoints = 1000\n",
    "\n",
    "x = np.linspace(0.1, 100.0, numberPoints)\n",
    "f = lambda x: np.sqrt((100.0 * (1.0 - 0.01 * x**2)**2 + 0.02 * x**2) / ((1.0-x**2)**2 + 0.1 * x**2))\n",
    "\n",
    "fig, axs = plt.subplots(1, 2)\n",
    "\n",
    "axs[0].plot(x, f(x))\n",
    "axs[1].set_xscale('log')\n",
    "axs[1].set_yscale('log')\n",
    "axs[1].plot(x, f(x))\n"
   ]
  },
  {
   "cell_type": "markdown",
   "metadata": {},
   "source": [
    "In caso si voglia trovare il valore del punto del massimo / minimo assoluto nel dominio in question è possibile farlo attraverso il seguente codice"
   ]
  },
  {
   "cell_type": "code",
   "execution_count": 42,
   "metadata": {},
   "outputs": [
    {
     "data": {
      "text/plain": [
       "<matplotlib.legend.Legend at 0x7fabc66b1550>"
      ]
     },
     "execution_count": 42,
     "metadata": {},
     "output_type": "execute_result"
    },
    {
     "data": {
      "image/png": "[encoded data removed]",
      "text/plain": [
       "<Figure size 432x288 with 1 Axes>"
      ]
     },
     "metadata": {
      "needs_background": "light"
     },
     "output_type": "display_data"
    }
   ],
   "source": [
    "y = f(x)\n",
    "M = np.max(y)\n",
    "m = np.min(y)\n",
    "\n",
    "posMax = np.nonzero(y == M)\n",
    "posMin = np.nonzero(y == m)\n",
    "\n",
    "fig, ax = plt.subplots()\n",
    "ax.plot(x, y, label='f(x)')\n",
    "ax.set_xscale('log')\n",
    "ax.set_yscale('log')\n",
    "ax.plot(x[posMax], y[posMax], marker='o', label='Max')\n",
    "ax.plot(x[posMin], y[posMin], marker='s', label='min')\n",
    "ax.legend()\n"
   ]
  }
 ],
 "metadata": {
  "interpreter": {
   "hash": "cf4ce45dd1fd0987079e1e020eef29be88ec1e084f043fdbe820ba5a4a729263"
  },
  "kernelspec": {
   "display_name": "Python 3.8.10 64-bit ('venv': venv)",
   "language": "python",
   "name": "python3"
  },
  "language_info": {
   "codemirror_mode": {
    "name": "ipython",
    "version": 3
   },
   "file_extension": ".py",
   "mimetype": "text/x-python",
   "name": "python",
   "nbconvert_exporter": "python",
   "pygments_lexer": "ipython3",
   "version": "3.8.10"
  },
  "orig_nbformat": 4
 },
 "nbformat": 4,
 "nbformat_minor": 2
}
